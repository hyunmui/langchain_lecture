{
 "cells": [
  {
   "cell_type": "code",
   "execution_count": 2,
   "id": "190a59b2",
   "metadata": {},
   "outputs": [
    {
     "data": {
      "text/plain": [
       "True"
      ]
     },
     "execution_count": 2,
     "metadata": {},
     "output_type": "execute_result"
    }
   ],
   "source": [
    "from dotenv import load_dotenv\n",
    "\n",
    "load_dotenv()"
   ]
  },
  {
   "cell_type": "code",
   "execution_count": 2,
   "id": "e300b97c",
   "metadata": {},
   "outputs": [],
   "source": [
    "import os\n",
    "from langchain_upstage import ChatUpstage\n",
    "\n",
    "api_key = os.getenv(\"UPSTAGE_API_KEY\")\n",
    "\n",
    "llm = ChatUpstage(api_key=api_key, model=\"solar-pro\")"
   ]
  },
  {
   "cell_type": "code",
   "execution_count": 3,
   "id": "9c545dc9",
   "metadata": {},
   "outputs": [],
   "source": [
    "ai_message = llm.invoke(\"인프런에 어떤 강의가 있나요?\")"
   ]
  },
  {
   "cell_type": "code",
   "execution_count": 4,
   "id": "b2de15bd",
   "metadata": {},
   "outputs": [
    {
     "data": {
      "text/plain": [
       "'인프런은 다양한 기술 강의 플랫폼을 제공하며, 주로 프로그래밍과 관련된 주제를 다룹니다. 구체적인 강의 목록은 시간이 지나거나 새로운 강의가 추가될 때마다 변할 수 있지만, 일반적으로 다음과 같은 주제의 강의가 있습니다:\\n\\n1. **프로그래밍 언어 강의**: Python, Java, JavaScript, C++, Ruby 등 다양한 프로그래밍 언어에 대한 입문 및 고급 강의를 제공합니다.\\n\\n2. **웹 개발**: HTML, CSS, JavaScript, React, Angular, Vue.js 등을 활용한 웹 개발 강의가 있습니다.\\n\\n3. **데이터 과학 및 머신러닝**: Python을 사용한 데이터 분석, 머신러닝, 딥러닝 등의 주제를 다룹니다.\\n\\n4. **네트워크 및 보안**: 네트워크 프로그래밍, 보안 관련 기술 및 방법에 대한 강의가 있습니다.\\n\\n5. **모바일 개발**: Android와 iOS 플랫폼을 위한 모바일 앱 개발 강의가 제공됩니다.\\n\\n6. **클라우드 컴퓨팅**: AWS, Google Cloud, Azure 등의 클라우드 서비스에 대한 강의가 있습니다.\\n\\n7. **DevOps 및 자동화**: Docker, Kubernetes, CI/CD 파이프라인 등 개발 자동화 및 배포 관련 주제를 다룹니다.\\n\\n8. **게임 개발**: Unity나 Unreal Engine을 사용한 게임 개발 강의가 있을 수 있습니다.\\n\\n각 강의는 입문자부터 고급 사용자까지 다양한 수준에 맞춰져 있으며, 많은 경우 실무 경험이 풍부한 전문가들이 직접 강의를 진행합니다. 구체적인 강의 목록은 인프런 웹사이트를 방문하여 검색해 보는 것이 가장 정확한 방법입니다.'"
      ]
     },
     "execution_count": 4,
     "metadata": {},
     "output_type": "execute_result"
    }
   ],
   "source": [
    "ai_message.content"
   ]
  },
  {
   "cell_type": "code",
   "execution_count": null,
   "id": "4f4321c6",
   "metadata": {},
   "outputs": [],
   "source": []
  }
 ],
 "metadata": {
  "kernelspec": {
   "display_name": "langchain_lecture",
   "language": "python",
   "name": "python3"
  },
  "language_info": {
   "codemirror_mode": {
    "name": "ipython",
    "version": 3
   },
   "file_extension": ".py",
   "mimetype": "text/x-python",
   "name": "python",
   "nbconvert_exporter": "python",
   "pygments_lexer": "ipython3",
   "version": "3.11.11"
  }
 },
 "nbformat": 4,
 "nbformat_minor": 5
}
